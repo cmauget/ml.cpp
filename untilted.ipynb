{
 "cells": [
  {
   "cell_type": "code",
   "execution_count": 2,
   "metadata": {},
   "outputs": [
    {
     "name": "stdout",
     "output_type": "stream",
     "text": [
      "Collecting torch\n",
      "  Downloading torch-2.2.0-cp312-none-macosx_11_0_arm64.whl.metadata (25 kB)\n",
      "Requirement already satisfied: numpy in /Users/cmauget/miniconda3/envs/mlcpp/lib/python3.12/site-packages (1.26.3)\n",
      "Collecting filelock (from torch)\n",
      "  Using cached filelock-3.13.1-py3-none-any.whl.metadata (2.8 kB)\n",
      "Requirement already satisfied: typing-extensions>=4.8.0 in /Users/cmauget/miniconda3/envs/mlcpp/lib/python3.12/site-packages (from torch) (4.9.0)\n",
      "Collecting sympy (from torch)\n",
      "  Using cached sympy-1.12-py3-none-any.whl (5.7 MB)\n",
      "Collecting networkx (from torch)\n",
      "  Using cached networkx-3.2.1-py3-none-any.whl.metadata (5.2 kB)\n",
      "Collecting jinja2 (from torch)\n",
      "  Downloading Jinja2-3.1.3-py3-none-any.whl.metadata (3.3 kB)\n",
      "Collecting fsspec (from torch)\n",
      "  Downloading fsspec-2024.2.0-py3-none-any.whl.metadata (6.8 kB)\n",
      "Collecting MarkupSafe>=2.0 (from jinja2->torch)\n",
      "  Downloading MarkupSafe-2.1.5-cp312-cp312-macosx_10_9_universal2.whl.metadata (3.0 kB)\n",
      "Collecting mpmath>=0.19 (from sympy->torch)\n",
      "  Using cached mpmath-1.3.0-py3-none-any.whl (536 kB)\n",
      "Downloading torch-2.2.0-cp312-none-macosx_11_0_arm64.whl (59.7 MB)\n",
      "\u001b[2K   \u001b[90m━━━━━━━━━━━━━━━━━━━━━━━━━━━━━━━━━━━━━━━━\u001b[0m \u001b[32m59.7/59.7 MB\u001b[0m \u001b[31m66.7 MB/s\u001b[0m eta \u001b[36m0:00:00\u001b[0m00:01\u001b[0m:00:01\u001b[0m\n",
      "\u001b[?25hUsing cached filelock-3.13.1-py3-none-any.whl (11 kB)\n",
      "Downloading fsspec-2024.2.0-py3-none-any.whl (170 kB)\n",
      "\u001b[2K   \u001b[90m━━━━━━━━━━━━━━━━━━━━━━━━━━━━━━━━━━━━━━━━\u001b[0m \u001b[32m170.9/170.9 kB\u001b[0m \u001b[31m17.3 MB/s\u001b[0m eta \u001b[36m0:00:00\u001b[0m\n",
      "\u001b[?25hDownloading Jinja2-3.1.3-py3-none-any.whl (133 kB)\n",
      "\u001b[2K   \u001b[90m━━━━━━━━━━━━━━━━━━━━━━━━━━━━━━━━━━━━━━━━\u001b[0m \u001b[32m133.2/133.2 kB\u001b[0m \u001b[31m17.4 MB/s\u001b[0m eta \u001b[36m0:00:00\u001b[0m\n",
      "\u001b[?25hUsing cached networkx-3.2.1-py3-none-any.whl (1.6 MB)\n",
      "Downloading MarkupSafe-2.1.5-cp312-cp312-macosx_10_9_universal2.whl (18 kB)\n",
      "Installing collected packages: mpmath, sympy, networkx, MarkupSafe, fsspec, filelock, jinja2, torch\n",
      "Successfully installed MarkupSafe-2.1.5 filelock-3.13.1 fsspec-2024.2.0 jinja2-3.1.3 mpmath-1.3.0 networkx-3.2.1 sympy-1.12 torch-2.2.0\n",
      "Note: you may need to restart the kernel to use updated packages.\n"
     ]
    }
   ],
   "source": [
    "%pip install torch numpy"
   ]
  },
  {
   "cell_type": "code",
   "execution_count": 20,
   "metadata": {},
   "outputs": [],
   "source": [
    "import torch\n",
    "import numpy as np"
   ]
  },
  {
   "cell_type": "code",
   "execution_count": 21,
   "metadata": {},
   "outputs": [],
   "source": [
    "x1 = np.array([0.3,0.5])\n",
    "x2 = np.array([0.7,1.0])\n",
    "x3 = np.array([0.3,0.0])\n",
    "x4 = np.array([1.0,0.9])\n",
    "y1 = np.array([0])\n",
    "y2 = np.array([1])\n",
    "y3 = np.array([1])\n",
    "y4 = np.array([0])"
   ]
  },
  {
   "cell_type": "code",
   "execution_count": 22,
   "metadata": {},
   "outputs": [
    {
     "data": {
      "text/plain": [
       "(2,)"
      ]
     },
     "execution_count": 22,
     "metadata": {},
     "output_type": "execute_result"
    }
   ],
   "source": [
    "x1.shape"
   ]
  },
  {
   "cell_type": "code",
   "execution_count": 23,
   "metadata": {},
   "outputs": [
    {
     "name": "stdout",
     "output_type": "stream",
     "text": [
      "0 0.08556786924600601\n",
      "1 0.022588888183236122\n",
      "2 0.0007740978617221117\n",
      "3 0.006020206492394209\n",
      "4 0.028313376009464264\n",
      "5 0.06062067300081253\n",
      "6 0.09807246923446655\n",
      "7 0.1373610496520996\n",
      "8 0.17629872262477875\n",
      "9 0.21349456906318665\n",
      "10 0.24811866879463196\n",
      "11 0.2797306478023529\n",
      "12 0.3081560730934143\n",
      "13 0.3333972692489624\n",
      "14 0.355569988489151\n",
      "15 0.3748588562011719\n",
      "16 0.3914860188961029\n",
      "17 0.40569007396698\n",
      "18 0.41771140694618225\n",
      "19 0.4277832508087158\n",
      "20 0.43612608313560486\n",
      "21 0.4429437816143036\n",
      "22 0.4484230875968933\n",
      "23 0.4527325928211212\n",
      "24 0.4560234844684601\n",
      "25 0.45843034982681274\n",
      "26 0.46007224917411804\n",
      "27 0.46105414628982544\n",
      "28 0.46146824955940247\n",
      "29 0.46139514446258545\n",
      "30 0.4609052240848541\n",
      "31 0.46005964279174805\n",
      "32 0.4589116871356964\n",
      "33 0.4575076997280121\n",
      "34 0.4558875262737274\n",
      "35 0.4540856182575226\n",
      "36 0.4521321654319763\n",
      "37 0.4500526487827301\n",
      "38 0.4478694796562195\n",
      "39 0.4456016421318054\n",
      "40 0.44326579570770264\n",
      "41 0.440875768661499\n",
      "42 0.4384439289569855\n",
      "43 0.43598052859306335\n",
      "44 0.43349456787109375\n",
      "45 0.4309934675693512\n",
      "46 0.4284840226173401\n",
      "47 0.4259716272354126\n",
      "48 0.42346087098121643\n",
      "49 0.4209558367729187\n"
     ]
    }
   ],
   "source": [
    "#create a one neuron nn\n",
    "model = torch.nn.Sequential(\n",
    "    torch.nn.Linear(2, 1),\n",
    ")\n",
    "\n",
    "#loss function\n",
    "loss_fn = torch.nn.MSELoss(reduction='sum')\n",
    "\n",
    "#optimizer\n",
    "learning_rate = 1e-2\n",
    "optimizer = torch.optim.SGD(model.parameters(), lr=learning_rate)\n",
    "\n",
    "#train\n",
    "for t in range(50):\n",
    "    y_pred = model(torch.tensor(x1).float())\n",
    "    loss = loss_fn(y_pred, torch.tensor(y1).float())\n",
    "    optimizer.zero_grad()\n",
    "    loss.backward()\n",
    "    optimizer.step()\n",
    "    y_pred = model(torch.tensor(x2).float())\n",
    "    loss = loss_fn(y_pred, torch.tensor(y2).float())\n",
    "    optimizer.zero_grad()\n",
    "    loss.backward()\n",
    "    optimizer.step()\n",
    "    y_pred = model(torch.tensor(x3).float())\n",
    "    loss = loss_fn(y_pred, torch.tensor(y3).float())\n",
    "    optimizer.zero_grad()\n",
    "    loss.backward()\n",
    "    optimizer.step()\n",
    "    y_pred = model(torch.tensor(x4).float())\n",
    "    loss = loss_fn(y_pred, torch.tensor(y4).float())\n",
    "    optimizer.zero_grad()\n",
    "    loss.backward()\n",
    "    optimizer.step()\n",
    "    print(t, loss.item())\n"
   ]
  },
  {
   "cell_type": "code",
   "execution_count": 24,
   "metadata": {},
   "outputs": [
    {
     "name": "stdout",
     "output_type": "stream",
     "text": [
      "0.weight tensor([[ 0.4633, -0.0516]])\n",
      "0.bias tensor([0.1955])\n"
     ]
    }
   ],
   "source": [
    "#get the model parameters\n",
    "for name, param in model.named_parameters():\n",
    "    print(name, param.data)\n",
    "    "
   ]
  },
  {
   "cell_type": "code",
   "execution_count": null,
   "metadata": {},
   "outputs": [],
   "source": []
  }
 ],
 "metadata": {
  "kernelspec": {
   "display_name": "mlcpp",
   "language": "python",
   "name": "python3"
  },
  "language_info": {
   "codemirror_mode": {
    "name": "ipython",
    "version": 3
   },
   "file_extension": ".py",
   "mimetype": "text/x-python",
   "name": "python",
   "nbconvert_exporter": "python",
   "pygments_lexer": "ipython3",
   "version": "3.12.0"
  }
 },
 "nbformat": 4,
 "nbformat_minor": 2
}
